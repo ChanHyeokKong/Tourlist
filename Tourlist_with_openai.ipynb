{
  "nbformat": 4,
  "nbformat_minor": 0,
  "metadata": {
    "colab": {
      "provenance": [],
      "authorship_tag": "ABX9TyObp6LbnprhAuVCM/RADYKN",
      "include_colab_link": true
    },
    "kernelspec": {
      "name": "python3",
      "display_name": "Python 3"
    },
    "language_info": {
      "name": "python"
    }
  },
  "cells": [
    {
      "cell_type": "markdown",
      "metadata": {
        "id": "view-in-github",
        "colab_type": "text"
      },
      "source": [
        "<a href=\"https://colab.research.google.com/github/ChanHyeokKong/Tourist/blob/main/Tourlist_with_openai.ipynb\" target=\"_parent\"><img src=\"https://colab.research.google.com/assets/colab-badge.svg\" alt=\"Open In Colab\"/></a>"
      ]
    },
    {
      "cell_type": "code",
      "source": [
        "!pip install openai requests"
      ],
      "metadata": {
        "collapsed": true,
        "id": "YaUS8rpshqNU"
      },
      "execution_count": null,
      "outputs": []
    },
    {
      "cell_type": "code",
      "source": [
        "!pip uninstall openai"
      ],
      "metadata": {
        "id": "huexG6BEnIOj"
      },
      "execution_count": null,
      "outputs": []
    },
    {
      "cell_type": "code",
      "source": [
        "!pip install openai==0.28"
      ],
      "metadata": {
        "id": "qJoLk4HonOUy"
      },
      "execution_count": null,
      "outputs": []
    },
    {
      "cell_type": "code",
      "source": [
        "import os\n",
        "\n",
        "gmaps_key = 'Enter the Google Maps API key here'\n",
        "\n",
        "os.environ['OPENAI_API_KEY'] = 'Enter the OpenAI API key here' # OpenAI api key를 입력하세요(문자열)\n",
        "\n",
        "client = openai.OpenAI()"
      ],
      "metadata": {
        "id": "iUCeJGGdjDUD"
      },
      "execution_count": 12,
      "outputs": []
    },
    {
      "cell_type": "code",
      "execution_count": null,
      "metadata": {
        "id": "YiRjyV11g40n"
      },
      "outputs": [],
      "source": [
        "import openai\n",
        "import requests\n",
        "import time\n",
        "\n",
        "# OpenAI API 키 설정\n",
        "openai.api_key = open_key  # 실제 API 키로 대체\n",
        "\n",
        "# 구글 맵 API 키 설정\n",
        "google_maps_api_key = gmaps_key  # 실제 API 키로 대체\n",
        "\n",
        "def fetch_place_ids(city_name):\n",
        "    search_url = f'https://maps.googleapis.com/maps/api/place/textsearch/json?query=tourist+attractions+in+{city_name}&key={google_maps_api_key}'\n",
        "    response = requests.get(search_url)\n",
        "    search_results = response.json()\n",
        "\n",
        "    print(\"Search Results:\", search_results)  # 디버깅: 검색 결과 확인\n",
        "\n",
        "    place_ids = []\n",
        "    if 'results' in search_results:\n",
        "        for place in search_results['results']:\n",
        "            place_ids.append(place['place_id'])\n",
        "\n",
        "    return place_ids\n",
        "\n",
        "def fetch_place_reviews(place_id):\n",
        "    url = f'https://maps.googleapis.com/maps/api/place/details/json?place_id={place_id}&fields=name,rating,reviews&key={google_maps_api_key}'\n",
        "    response = requests.get(url)\n",
        "    place_details = response.json()\n",
        "\n",
        "    print(f\"Place Details for {place_id}:\", place_details)  # 디버깅: 장소 세부 정보 확인\n",
        "\n",
        "    if 'result' not in place_details:\n",
        "        return None\n",
        "\n",
        "    reviews = place_details['result'].get('reviews', [])\n",
        "    return reviews\n",
        "\n",
        "def generate_travel_plan(reviews, user_request):\n",
        "    review_texts = \" \".join([review['text'] for review in reviews])\n",
        "    prompt = f\"\"\"\n",
        "    다음은 관광 명소 및 레스토랑에 대한 리뷰입니다:\n",
        "\n",
        "    {review_texts}\n",
        "\n",
        "    사용자는 \"{user_request}\"에 중점을 둔 여행 계획을 원합니다.\n",
        "\n",
        "    제공된 리뷰를 바탕으로 여행 계획을 자세히 제시해 주세요.\n",
        "    가장 평가가 높은 장소와 그들의 특징을 강조해 주세요.\n",
        "    \"\"\"\n",
        "\n",
        "    response = client.chat.completions.create(\n",
        "        model=\"gpt-3.5-turbo\",  # 최신 모델을 사용할 수 있습니다.\n",
        "        messages=[\n",
        "            {\"role\": \"system\", \"content\": \"You are a helpful assistant.\"},\n",
        "            {\"role\": \"user\", \"content\": prompt}\n",
        "        ],\n",
        "        max_tokens=500,\n",
        "        temperature=0.7\n",
        "    )\n",
        "\n",
        "    return response.choices[0].message.content\n",
        "\n",
        "def main():\n",
        "    # 사용자 입력 받기\n",
        "    city_name = input(\"도시를 입력하세요 (예: 타이페이): \")\n",
        "    user_request = input(\"여행 관심사를 입력하세요 (예: 역사적인 관광지): \")\n",
        "\n",
        "    if not city_name or not user_request:\n",
        "        print(\"도시와 여행 관심사가 필요합니다.\")\n",
        "        return\n",
        "\n",
        "    # 도시를 기반으로 장소 ID 검색\n",
        "    place_ids = fetch_place_ids(city_name)\n",
        "\n",
        "    print(\"Place IDs:\", place_ids)  # 디버깅: 장소 ID 확인\n",
        "\n",
        "    if not place_ids:\n",
        "        print(\"장소를 찾을 수 없습니다.\")\n",
        "        return\n",
        "\n",
        "    # 리뷰 수집\n",
        "    all_reviews = []\n",
        "    for place_id in place_ids:\n",
        "        reviews = fetch_place_reviews(place_id)\n",
        "        if reviews:\n",
        "            all_reviews.extend(reviews)\n",
        "\n",
        "    print(\"All Reviews:\", all_reviews)  # 디버깅: 모든 리뷰 확인\n",
        "\n",
        "    if not all_reviews:\n",
        "        print(\"리뷰를 불러오는 데 실패했습니다.\")\n",
        "        return\n",
        "\n",
        "    # 여행 계획 생성\n",
        "    travel_plan = generate_travel_plan(all_reviews, user_request)\n",
        "\n",
        "    # 결과 출력\n",
        "    print(\"\\n여행 계획:\")\n",
        "    print(travel_plan)\n",
        "\n",
        "    time.sleep(20)\n",
        "\n",
        "if __name__ == \"__main__\":\n",
        "    main()\n"
      ]
    },
    {
      "cell_type": "markdown",
      "source": [
        "RAG 에러 확인 필요\n",
        "Chat GPT와 실행결과 비교를 통해 리뷰를 사용하고 있는지 비교 필요"
      ],
      "metadata": {
        "id": "R8mzomBF8m44"
      }
    },
    {
      "cell_type": "code",
      "source": [],
      "metadata": {
        "id": "hqMtj4g-wkTi"
      },
      "execution_count": null,
      "outputs": []
    }
  ]
}